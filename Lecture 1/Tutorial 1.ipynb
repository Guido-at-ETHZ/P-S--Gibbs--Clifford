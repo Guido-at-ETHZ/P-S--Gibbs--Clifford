{
 "cells": [
  {
   "cell_type": "markdown",
   "source": [
    "# Tutorial 1: Introduction to Python"
   ],
   "metadata": {
    "collapsed": false
   }
  },
  {
   "cell_type": "markdown",
   "source": [
    "Python is a high-level, interpreted programming language that is widely used for data analysis, machine learning, and scientific computing. Python is known for its simplicity, readability, and versatility. In this tutorial, we will cover the basics of Python programming, including variables, data types, strings, lists, tuples, dictionaries, and libraries."
   ],
   "metadata": {
    "collapsed": false
   }
  },
  {
   "cell_type": "markdown",
   "source": [
    "## 1.1 Importing Libraries"
   ],
   "metadata": {
    "collapsed": false
   }
  },
  {
   "cell_type": "markdown",
   "source": [
    "Libraries are collections of functions and methods that allow you to perform many actions without writing your own code. In Python, libraries are imported using the `import` keyword. For example, the `numpy` library is commonly used for numerical operations in Python. Other important libraries include `pandas`, `matplotlib`, and `scikit-learn`."
   ],
   "metadata": {
    "collapsed": false
   }
  },
  {
   "cell_type": "code",
   "execution_count": null,
   "outputs": [],
   "source": [
    "# importing the numpy library\n",
    "import numpy as np"
   ],
   "metadata": {
    "collapsed": false
   }
  },
  {
   "cell_type": "markdown",
   "source": [
    "## 1.2 Variables"
   ],
   "metadata": {
    "collapsed": false
   }
  },
  {
   "cell_type": "markdown",
   "source": [
    "Variables are used to store data in Python. You can assign a value to a variable using the `=` operator. Variable names can contain letters, numbers, and underscores, but they cannot start with a number. Variable names are case-sensitive."
   ],
   "metadata": {
    "collapsed": false
   }
  },
  {
   "cell_type": "code",
   "execution_count": null,
   "outputs": [],
   "source": [
    "# assigning a value to a variable\n",
    "x = 5\n",
    "y = 10\n",
    "z = x + y"
   ],
   "metadata": {
    "collapsed": false
   }
  },
  {
   "cell_type": "markdown",
   "source": [
    "## 1.3 Data Types"
   ],
   "metadata": {
    "collapsed": false
   }
  },
  {
   "cell_type": "markdown",
   "source": [
    "Python has several built-in data types, including integers, floats, strings, lists, tuples, and dictionaries. You can use the `type()` function to determine the data type of a variable."
   ],
   "metadata": {
    "collapsed": false
   }
  },
  {
   "cell_type": "code",
   "execution_count": null,
   "metadata": {
    "collapsed": true
   },
   "outputs": [],
   "source": [
    "print(type(5)) # integer\n",
    "print(type(5.0)) # float\n",
    "print(type(\"hello\")) # string\n",
    "print(type([1, 2, 3])) # list\n",
    "print(type((1, 2, 3))) # tuple\n",
    "print(type({\"a\": 1, \"b\": 2, \"c\": 3})) # dictionary"
   ]
  },
  {
   "cell_type": "markdown",
   "source": [
    "As we have seen in the previous example, there are multiple types of data in Python. The most common data types are:\n",
    "- Integers: whole numbers, e.g., 5\n",
    "- Floats: numbers with decimal points, e.g., 5.0\n",
    "- Strings: sequences of characters, e.g., \"hello\"\n",
    "- Lists: ordered collections of items, e.g., [1, 2, 3]\n",
    "- Tuples: ordered, immutable collections of items, e.g., (1, 2, 3)\n",
    "- Dictionaries: unordered collections of key-value pairs, e.g., {\"a\": 1, \"b\": 2, \"c\": 3}\n",
    "- Booleans: values that are either True or False"
   ],
   "metadata": {
    "collapsed": false
   }
  },
  {
   "cell_type": "markdown",
   "source": [
    "## 1.4 Strings"
   ],
   "metadata": {
    "collapsed": false
   }
  },
  {
   "cell_type": "markdown",
   "source": [
    "Strings are sequences of characters enclosed in single or double quotes. You can perform various operations on strings, such as concatenation, slicing, and formatting."
   ],
   "metadata": {
    "collapsed": false
   }
  },
  {
   "cell_type": "code",
   "execution_count": null,
   "outputs": [],
   "source": [
    "# creating a string\n",
    "s = \"hello, world!\"\n",
    "print(s)"
   ],
   "metadata": {
    "collapsed": false
   }
  },
  {
   "cell_type": "code",
   "execution_count": null,
   "outputs": [],
   "source": [
    "# concatenating strings\n",
    "s1 = \"hello\"\n",
    "s2 = \"world\"\n",
    "s3 = s1 + \" \" + s2\n",
    "print(s3)"
   ],
   "metadata": {
    "collapsed": false
   }
  },
  {
   "cell_type": "markdown",
   "source": [
    "## 1.5 Lists"
   ],
   "metadata": {
    "collapsed": false
   }
  },
  {
   "cell_type": "markdown",
   "source": [
    "Lists are ordered collections of items enclosed in square brackets. You can access individual items in a list using their index, which starts at 0. You can also perform various operations on lists, such as appending, removing, and slicing."
   ],
   "metadata": {
    "collapsed": false
   }
  },
  {
   "cell_type": "code",
   "execution_count": null,
   "outputs": [],
   "source": [
    "# creating a list\n",
    "l = [1, 2, 3, 4, 5]\n",
    "print(l)"
   ],
   "metadata": {
    "collapsed": false
   }
  },
  {
   "cell_type": "markdown",
   "source": [
    "## 1.6 Tuples"
   ],
   "metadata": {
    "collapsed": false
   }
  },
  {
   "cell_type": "markdown",
   "source": [
    "Tuples are ordered, immutable collections of items enclosed in parentheses. You can access individual items in a tuple using their index, which starts at 0. Tuples are similar to lists, but they cannot be modified after creation."
   ],
   "metadata": {
    "collapsed": false
   }
  },
  {
   "cell_type": "code",
   "execution_count": null,
   "outputs": [],
   "source": [
    "# creating a tuple\n",
    "t = (1, 2, 3, 4, 5)\n",
    "print(t)"
   ],
   "metadata": {
    "collapsed": false
   }
  },
  {
   "cell_type": "markdown",
   "source": [
    "## 1.7 Dictionaries"
   ],
   "metadata": {
    "collapsed": false
   }
  },
  {
   "cell_type": "markdown",
   "source": [
    "Dictionaries are unordered collections of key-value pairs enclosed in curly braces. You can access individual items in a dictionary using their key. Dictionaries are useful for storing and retrieving data based on a unique key."
   ],
   "metadata": {
    "collapsed": false
   }
  },
  {
   "cell_type": "code",
   "execution_count": null,
   "outputs": [],
   "source": [
    "# creating a dictionary\n",
    "d = {\"a\": 1, \"b\": 2, \"c\": 3}\n",
    "print(d)"
   ],
   "metadata": {
    "collapsed": false
   }
  },
  {
   "cell_type": "markdown",
   "source": [
    "## 1.8 If, Else, and Elif Statements"
   ],
   "metadata": {
    "collapsed": false
   }
  },
  {
   "cell_type": "markdown",
   "source": [
    "In Python, you can use the `if`, `else`, and `elif` statements to control the flow of your program based on certain conditions. The `if` statement is used to execute a block of code if a condition is true. The `else` statement is used to execute a block of code if the condition is false. The `elif` statement is used to check multiple conditions."
   ],
   "metadata": {
    "collapsed": false
   }
  },
  {
   "cell_type": "code",
   "execution_count": null,
   "outputs": [],
   "source": [
    "# if statement\n",
    "x = 5\n",
    "if x > 0:\n",
    "    print(\"x is positive\")\n",
    "# else statement\n",
    "x = -5\n",
    "if x > 0:\n",
    "    print(\"x is positive\")\n",
    "else:\n",
    "    print(\"x is negative\")\n",
    "# elif statement\n",
    "x = 0\n",
    "if x > 0:\n",
    "    print(\"x is positive\")\n",
    "elif x < 0:\n",
    "    print(\"x is negative\")\n",
    "else:\n",
    "    print(\"x is zero\")"
   ],
   "metadata": {
    "collapsed": false
   }
  },
  {
   "cell_type": "markdown",
   "source": [
    "## 1.9 For Loops"
   ],
   "metadata": {
    "collapsed": false
   }
  },
  {
   "cell_type": "markdown",
   "source": [
    "In Python, you can use the `for` loop to iterate over a sequence of items, such as a list or a tuple. You can also use the `range()` function to generate a sequence of numbers."
   ],
   "metadata": {
    "collapsed": false
   }
  },
  {
   "cell_type": "code",
   "execution_count": null,
   "outputs": [],
   "source": [
    "# for loop\n",
    "for i in range(5):\n",
    "    print(i)"
   ],
   "metadata": {
    "collapsed": false
   }
  },
  {
   "cell_type": "markdown",
   "source": [
    "## 1.10 While Loops"
   ],
   "metadata": {
    "collapsed": false
   }
  },
  {
   "cell_type": "markdown",
   "source": [
    "In Python, you can use the `while` loop to execute a block of code as long as a condition is true. You can also use the `break` statement to exit the loop prematurely."
   ],
   "metadata": {
    "collapsed": false
   }
  },
  {
   "cell_type": "code",
   "execution_count": null,
   "outputs": [],
   "source": [
    "# while loop\n",
    "i = 0\n",
    "while i < 5:\n",
    "    print(i)\n",
    "    i += 1"
   ],
   "metadata": {
    "collapsed": false
   }
  },
  {
   "cell_type": "markdown",
   "source": [
    "## 1.11 Functions"
   ],
   "metadata": {
    "collapsed": false
   }
  },
  {
   "cell_type": "markdown",
   "source": [
    "Functions are reusable blocks of code that perform a specific task. You can define a function using the `def` keyword, followed by the function name and parameters. You can call a function by using its name followed by parentheses."
   ],
   "metadata": {
    "collapsed": false
   }
  },
  {
   "cell_type": "code",
   "execution_count": null,
   "outputs": [],
   "source": [
    "# defining a function\n",
    "def add(x, y):\n",
    "    return x + y"
   ],
   "metadata": {
    "collapsed": false
   }
  },
  {
   "cell_type": "markdown",
   "source": [
    "Functions are composed of:\n",
    "- The `def` keyword, which indicates the start of the function definition\n",
    "- The function name, which is used to call the function\n",
    "- The parameters, which are inputs to the function\n",
    "- The body of the function, which contains the code to be executed\n",
    "- The `return` statement, which specifies the output of the function"
   ],
   "metadata": {
    "collapsed": false
   }
  },
  {
   "cell_type": "markdown",
   "source": [
    "As it's possible to notice, you don't define the data type of the parameters or the output of the function. This is because Python is a dynamically typed language, which means that the data type of a variable is determined at runtime. This allows for more flexibility and less code, but it can also lead to errors if the data types are not handled correctly."
   ],
   "metadata": {
    "collapsed": false
   }
  },
  {
   "cell_type": "markdown",
   "source": [
    "## 1.12 Classes and Objects"
   ],
   "metadata": {
    "collapsed": false
   }
  },
  {
   "cell_type": "markdown",
   "source": [
    "In Python, you can use classes and objects to create your own data types. A class is a blueprint for creating objects, while an object is an instance of a class. You can define a class using the `"
   ],
   "metadata": {
    "collapsed": false
   }
  },
  {
   "cell_type": "code",
   "execution_count": null,
   "outputs": [],
   "source": [
    "# defining a class\n",
    "class Person:\n",
    "    def __init__(self, name, age):\n",
    "        self.name = name\n",
    "        self.age = age\n",
    "    def greet(self):\n",
    "        print(f\"Hello, my name is {self.name} and I am {self.age} years old.\")"
   ],
   "metadata": {
    "collapsed": false
   }
  },
  {
   "cell_type": "markdown",
   "source": [
    "Classes are composed of:\n",
    "- The `class` keyword, which indicates the start of the class definition\n",
    "- The class name, which is used to create objects\n",
    "- The `__init__` method, which is a special method that is called when an object is created\n",
    "- The `self` parameter, which is a reference to the object itself\n",
    "- The attributes, which are variables that store data about the object\n",
    "- The methods, which are functions that perform actions on the object"
   ],
   "metadata": {
    "collapsed": false
   }
  },
  {
   "cell_type": "markdown",
   "source": [
    "## 1.13 Conclusion"
   ],
   "metadata": {
    "collapsed": false
   }
  },
  {
   "cell_type": "markdown",
   "source": [
    "In this tutorial, we covered the basics of Python programming, including variables, data types, strings, lists, tuples, dictionaries, if, else, and elif statements, for and while loops, functions, classes, and objects. Python is a powerful and versatile programming language that is widely used for data analysis, machine learning, and scientific computing. By mastering the fundamentals of Python, you can unlock the full potential of this popular programming language."
   ],
   "metadata": {
    "collapsed": false
   }
  },
  {
   "cell_type": "markdown",
   "source": [
    "## 2.1 Proposed Exercises"
   ],
   "metadata": {
    "collapsed": false
   }
  },
  {
   "cell_type": "markdown",
   "source": [
    "1. Create a list of numbers from 1 to 10 and print the square of each number.\n",
    "2. Create a dictionary with the following key-value pairs: \"a\": 1, \"b\": 2, \"c\": 3, and print the value associated with the key \"b\".\n",
    "3. Write a function that takes two numbers as input and returns their sum.\n",
    "4. Create a class called `Rectangle` with attributes `width` and `height` and methods `area` and `perimeter`.\n",
    "5. Write a program that prints the Fibonacci sequence up to 10 terms.\n",
    "6. Create a list of strings and sort them in alphabetical order."
   ],
   "metadata": {
    "collapsed": false
   }
  }
 ],
 "metadata": {
  "kernelspec": {
   "display_name": "Python 3",
   "language": "python",
   "name": "python3"
  },
  "language_info": {
   "codemirror_mode": {
    "name": "ipython",
    "version": 2
   },
   "file_extension": ".py",
   "mimetype": "text/x-python",
   "name": "python",
   "nbconvert_exporter": "python",
   "pygments_lexer": "ipython2",
   "version": "2.7.6"
  }
 },
 "nbformat": 4,
 "nbformat_minor": 0
}
