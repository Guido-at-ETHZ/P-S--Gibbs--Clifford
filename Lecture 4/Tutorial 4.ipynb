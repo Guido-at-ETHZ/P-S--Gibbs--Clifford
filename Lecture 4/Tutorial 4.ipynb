{
 "cells": [
  {
   "cell_type": "markdown",
   "source": [
    "# Tutorial 3: Geometric algebra tools and Computing with GA"
   ],
   "metadata": {
    "collapsed": false
   }
  },
  {
   "cell_type": "markdown",
   "source": [
    "In this tutorial, we will introduce some of the basic tools of geometric algebra and show how they can be used to perform geometric operations. We will also show how to perform basic arithmetic operations with geometric algebra objects."
   ],
   "metadata": {
    "collapsed": false
   }
  },
  {
   "cell_type": "markdown",
   "source": [
    "## 0. Importing libraries"
   ],
   "metadata": {
    "collapsed": false
   }
  },
  {
   "cell_type": "code",
   "execution_count": 6,
   "outputs": [],
   "source": [
    "import numpy as np"
   ],
   "metadata": {
    "collapsed": false
   }
  },
  {
   "cell_type": "markdown",
   "source": [
    "## 1. Geometric algebra tools"
   ],
   "metadata": {
    "collapsed": false
   }
  },
  {
   "cell_type": "markdown",
   "source": [
    "Geometric algebra is a mathematical language that can be used to describe geometric objects and operations. It is a generalization of linear algebra and vector calculus that includes the notion of orientation and size of objects. In this tutorial, we will introduce some of the basic tools of geometric algebra and show how they can be used to perform geometric operations."
   ],
   "metadata": {
    "collapsed": false
   }
  },
  {
   "cell_type": "markdown",
   "source": [
    "#### 1.1 Outer product"
   ],
   "metadata": {
    "collapsed": false
   }
  },
  {
   "cell_type": "markdown",
   "source": [
    "The outer product of two vectors $a$ and $b$ is defined as the sum of the tensor product and the antisymmetric product of the two vectors:"
   ],
   "metadata": {
    "collapsed": false
   }
  },
  {
   "cell_type": "code",
   "execution_count": 3,
   "outputs": [
    {
     "name": "stdout",
     "output_type": "stream",
     "text": [
      "[[ 0 -3 -6]\n",
      " [ 3  0 -3]\n",
      " [ 6  3  0]]\n"
     ]
    }
   ],
   "source": [
    "def op(a, b):\n",
    "    return np.outer(a, b) - np.outer(b, a)\n",
    "# Example\n",
    "a = np.array([1, 2, 3])\n",
    "b = np.array([4, 5, 6])\n",
    "print(op(a, b))"
   ],
   "metadata": {
    "collapsed": false
   }
  },
  {
   "cell_type": "markdown",
   "source": [
    "#### 1.2 Inner product"
   ],
   "metadata": {
    "collapsed": false
   }
  },
  {
   "cell_type": "markdown",
   "source": [
    "The inner product of two vectors $a$ and $b$ is defined as the sum of the tensor product and the symmetric product of the two vectors:"
   ],
   "metadata": {
    "collapsed": false
   }
  },
  {
   "cell_type": "code",
   "execution_count": 4,
   "outputs": [
    {
     "name": "stdout",
     "output_type": "stream",
     "text": [
      "[[ 8 13 18]\n",
      " [13 20 27]\n",
      " [18 27 36]]\n"
     ]
    }
   ],
   "source": [
    "def ip(a, b):\n",
    "    return np.outer(a, b) + np.outer(b, a)\n",
    "# Example\n",
    "a = np.array([1, 2, 3])\n",
    "b = np.array([4, 5, 6])\n",
    "print(ip(a, b))"
   ],
   "metadata": {
    "collapsed": false
   }
  },
  {
   "cell_type": "markdown",
   "source": [
    "#### 1.3 Geometric product"
   ],
   "metadata": {
    "collapsed": false
   }
  },
  {
   "cell_type": "markdown",
   "source": [
    "The geometric product of two vectors $a$ and $b$ is defined as the sum of the inner product and the outer product of the two vectors:"
   ],
   "metadata": {
    "collapsed": false
   }
  },
  {
   "cell_type": "code",
   "execution_count": 5,
   "outputs": [
    {
     "name": "stdout",
     "output_type": "stream",
     "text": [
      "[29 38 29]\n"
     ]
    }
   ],
   "source": [
    "def gp(a, b):\n",
    "    return np.dot(a, b) + np.cross(a, b)\n",
    "# Example\n",
    "a = np.array([1, 2, 3])\n",
    "b = np.array([4, 5, 6])\n",
    "print(gp(a, b))"
   ],
   "metadata": {
    "collapsed": false
   }
  },
  {
   "cell_type": "markdown",
   "source": [
    "### 1.4 Dual"
   ],
   "metadata": {
    "collapsed": false
   }
  },
  {
   "cell_type": "markdown",
   "source": [
    "The dual of a vector $a$ is defined as the vector that is orthogonal to $a$ in the sense that the inner product of $a$ and its dual is zero:"
   ],
   "metadata": {
    "collapsed": false
   }
  },
  {
   "cell_type": "code",
   "execution_count": 27,
   "outputs": [
    {
     "name": "stdout",
     "output_type": "stream",
     "text": [
      "[-1  2 -1]\n"
     ]
    }
   ],
   "source": [
    "def dual(a):\n",
    "    return np.cross(a, np.array([1, 1, 1]))\n",
    "# Example\n",
    "a = np.array([1, 2, 3])\n",
    "print(dual(a))"
   ],
   "metadata": {
    "collapsed": false
   }
  },
  {
   "cell_type": "markdown",
   "source": [
    "### 1.5 Inverse"
   ],
   "metadata": {
    "collapsed": false
   }
  },
  {
   "cell_type": "markdown",
   "source": [
    "The inverse of a vector $a$ is defined as the vector that is orthogonal to $a$ in the sense that the geometric product of $a$ and its inverse is one:"
   ],
   "metadata": {
    "collapsed": false
   }
  },
  {
   "cell_type": "code",
   "execution_count": 7,
   "outputs": [
    {
     "name": "stdout",
     "output_type": "stream",
     "text": [
      "[-0.26726124  0.53452248 -0.26726124]\n"
     ]
    }
   ],
   "source": [
    "def inv(a):\n",
    "    return np.cross(a, np.array([1, 1, 1])) / np.linalg.norm(a)\n",
    "# Example\n",
    "a = np.array([1, 2, 3])\n",
    "print(inv(a))"
   ],
   "metadata": {
    "collapsed": false
   }
  },
  {
   "cell_type": "markdown",
   "source": [
    "### 1.6 Reverse"
   ],
   "metadata": {
    "collapsed": false
   }
  },
  {
   "cell_type": "markdown",
   "source": [
    "The reverse of a vector $a$ is defined as the vector that is orthogonal to $a$ in the sense that the geometric product of $a$ and its reverse is zero:"
   ],
   "metadata": {
    "collapsed": false
   }
  },
  {
   "cell_type": "code",
   "execution_count": 8,
   "outputs": [
    {
     "name": "stdout",
     "output_type": "stream",
     "text": [
      "[-3.74165739  7.48331477 -3.74165739]\n"
     ]
    }
   ],
   "source": [
    "def rev(a):\n",
    "    return np.cross(a, np.array([1, 1, 1])) * np.linalg.norm(a)\n",
    "# Example\n",
    "a = np.array([1, 2, 3])\n",
    "print(rev(a))"
   ],
   "metadata": {
    "collapsed": false
   }
  },
  {
   "cell_type": "markdown",
   "source": [
    "### 1.7 Conjugate"
   ],
   "metadata": {
    "collapsed": false
   }
  },
  {
   "cell_type": "markdown",
   "source": [
    "The conjugate of a vector $a$ is defined as the vector that is orthogonal to $a$ in the sense that the geometric product of $a$ and its conjugate is zero:"
   ],
   "metadata": {
    "collapsed": false
   }
  },
  {
   "cell_type": "code",
   "execution_count": 9,
   "outputs": [
    {
     "name": "stdout",
     "output_type": "stream",
     "text": [
      "[-1.  2. -1.]\n"
     ]
    }
   ],
   "source": [
    "def conj(a):\n",
    "    return np.cross(a, np.array([1, 1, 1])) * np.linalg.norm(a) / np.linalg.norm(a)\n",
    "# Example\n",
    "a = np.array([1, 2, 3])\n",
    "print(conj(a))"
   ],
   "metadata": {
    "collapsed": false
   }
  },
  {
   "cell_type": "markdown",
   "source": [
    "### 1.8. Grade projection"
   ],
   "metadata": {
    "collapsed": false
   }
  },
  {
   "cell_type": "markdown",
   "source": [
    "The grade projection of a vector $a$ is defined as the vector that is orthogonal to $a$ in the sense that the geometric product of $a$ and its grade projection is zero:"
   ],
   "metadata": {
    "collapsed": false
   }
  },
  {
   "cell_type": "code",
   "execution_count": 10,
   "outputs": [
    {
     "name": "stdout",
     "output_type": "stream",
     "text": [
      "[-1.  2. -1.]\n"
     ]
    }
   ],
   "source": [
    "def gp(a, n):\n",
    "    return np.cross(a, np.array([1, 1, 1])) * np.linalg.norm(a) / np.linalg.norm(a)\n",
    "# Example\n",
    "a = np.array([1, 2, 3])\n",
    "n = 2\n",
    "print(gp(a, n))"
   ],
   "metadata": {
    "collapsed": false
   }
  },
  {
   "cell_type": "markdown",
   "source": [
    "### 1.9 Norm"
   ],
   "metadata": {
    "collapsed": false
   }
  },
  {
   "cell_type": "markdown",
   "source": [
    "The norm of a vector $a$ is defined as the square root of the sum of the squares of the components of the vector:"
   ],
   "metadata": {
    "collapsed": false
   }
  },
  {
   "cell_type": "code",
   "execution_count": 11,
   "outputs": [
    {
     "name": "stdout",
     "output_type": "stream",
     "text": [
      "3.7416573867739413\n"
     ]
    }
   ],
   "source": [
    "def norm(a):\n",
    "    return np.sqrt(np.sum(a ** 2))\n",
    "# Example\n",
    "a = np.array([1, 2, 3])\n",
    "print(norm(a))"
   ],
   "metadata": {
    "collapsed": false
   }
  },
  {
   "cell_type": "markdown",
   "source": [
    "### 1.10 Normalization"
   ],
   "metadata": {
    "collapsed": false
   }
  },
  {
   "cell_type": "markdown",
   "source": [
    "The normalization of a vector $a$ is defined as the vector that is orthogonal to $a$ in the sense that the geometric product of $a$ and its normalization is one:"
   ],
   "metadata": {
    "collapsed": false
   }
  },
  {
   "cell_type": "code",
   "execution_count": 12,
   "outputs": [
    {
     "name": "stdout",
     "output_type": "stream",
     "text": [
      "[0.26726124 0.53452248 0.80178373]\n"
     ]
    }
   ],
   "source": [
    "def normalize(a):\n",
    "    return a / np.linalg.norm(a)\n",
    "# Example\n",
    "a = np.array([1, 2, 3])\n",
    "print(normalize(a))"
   ],
   "metadata": {
    "collapsed": false
   }
  },
  {
   "cell_type": "markdown",
   "source": [
    "### 1.11 Exp and Log"
   ],
   "metadata": {
    "collapsed": false
   }
  },
  {
   "cell_type": "markdown",
   "source": [
    "The exponential of a vector $a$ is defined as the vector that is orthogonal to $a$ in the sense that the geometric product of $a$ and its exponential is one:"
   ],
   "metadata": {
    "collapsed": false
   }
  },
  {
   "cell_type": "code",
   "execution_count": 13,
   "outputs": [
    {
     "name": "stdout",
     "output_type": "stream",
     "text": [
      "[ 2.71828183  7.3890561  20.08553692]\n"
     ]
    }
   ],
   "source": [
    "def exp(a):\n",
    "    return np.exp(a)\n",
    "# Example\n",
    "a = np.array([1, 2, 3])\n",
    "print(exp(a))"
   ],
   "metadata": {
    "collapsed": false
   }
  },
  {
   "cell_type": "markdown",
   "source": [
    "### 1.12 Rotors"
   ],
   "metadata": {
    "collapsed": false
   }
  },
  {
   "cell_type": "markdown",
   "source": [
    "A rotor is a vector that is orthogonal to the plane of rotation in the sense that the geometric product of the rotor and the plane of rotation is one:"
   ],
   "metadata": {
    "collapsed": false
   }
  },
  {
   "cell_type": "code",
   "execution_count": 14,
   "outputs": [
    {
     "name": "stdout",
     "output_type": "stream",
     "text": [
      "[-0.09137174  0.18274347 -0.09137174]\n"
     ]
    }
   ],
   "source": [
    "def rotor(a, b):\n",
    "    return np.cross(a, b) / np.linalg.norm(a) / np.linalg.norm(b)\n",
    "# Example\n",
    "a = np.array([1, 2, 3])\n",
    "b = np.array([4, 5, 6])\n",
    "print(rotor(a, b))"
   ],
   "metadata": {
    "collapsed": false
   }
  },
  {
   "cell_type": "markdown",
   "source": [
    "### 1.13 Reflections"
   ],
   "metadata": {
    "collapsed": false
   }
  },
  {
   "cell_type": "markdown",
   "source": [
    "A reflection is a vector that is orthogonal to the plane of reflection in the sense that the geometric product of the reflection and the plane of reflection is one:"
   ],
   "metadata": {
    "collapsed": false
   }
  },
  {
   "cell_type": "code",
   "execution_count": null,
   "outputs": [],
   "source": [
    "def reflect(a, b):\n",
    "    return np.cross(a, b) / np.linalg.norm(a) / np.linalg.norm(b)\n",
    "# Example\n",
    "a = np.array([1, 2, 3])\n",
    "b = np.array([4, 5, 6])\n",
    "print(reflect(a, b))"
   ],
   "metadata": {
    "collapsed": false
   }
  },
  {
   "cell_type": "markdown",
   "source": [
    "### 1.14 Translations"
   ],
   "metadata": {
    "collapsed": false
   }
  },
  {
   "cell_type": "markdown",
   "source": [
    "A translation is a vector that is orthogonal to the plane of translation in the sense that the geometric product of the translation and the plane of translation is one:"
   ],
   "metadata": {
    "collapsed": false
   }
  },
  {
   "cell_type": "code",
   "execution_count": 15,
   "outputs": [
    {
     "name": "stdout",
     "output_type": "stream",
     "text": [
      "[-0.09137174  0.18274347 -0.09137174]\n"
     ]
    }
   ],
   "source": [
    "def translate(a, b):\n",
    "    return np.cross(a, b) / np.linalg.norm(a) / np.linalg.norm(b)\n",
    "# Example\n",
    "a = np.array([1, 2, 3])\n",
    "b = np.array([4, 5, 6])\n",
    "print(translate(a, b))"
   ],
   "metadata": {
    "collapsed": false
   }
  },
  {
   "cell_type": "markdown",
   "source": [
    "### 1.15 Dilations"
   ],
   "metadata": {
    "collapsed": false
   }
  },
  {
   "cell_type": "code",
   "execution_count": 16,
   "outputs": [
    {
     "name": "stdout",
     "output_type": "stream",
     "text": [
      "[-0.09137174  0.18274347 -0.09137174]\n"
     ]
    }
   ],
   "source": [
    "def dilate(a, b):\n",
    "    return np.cross(a, b) / np.linalg.norm(a) / np.linalg.norm(b)\n",
    "# Example\n",
    "a = np.array([1, 2, 3])\n",
    "b = np.array([4, 5, 6])\n",
    "print(dilate(a, b))"
   ],
   "metadata": {
    "collapsed": false
   }
  },
  {
   "cell_type": "markdown",
   "source": [
    "### 1.16 Conformal transformations"
   ],
   "metadata": {
    "collapsed": false
   }
  },
  {
   "cell_type": "markdown",
   "source": [
    "A conformal transformation is a vector that is orthogonal to the plane of transformation in the sense that the geometric product of the transformation and the plane of transformation is one:"
   ],
   "metadata": {
    "collapsed": false
   }
  },
  {
   "cell_type": "code",
   "execution_count": 17,
   "outputs": [
    {
     "name": "stdout",
     "output_type": "stream",
     "text": [
      "[-0.09137174  0.18274347 -0.09137174]\n"
     ]
    }
   ],
   "source": [
    "def conformal(a, b):\n",
    "    return np.cross(a, b) / np.linalg.norm(a) / np.linalg.norm(b)\n",
    "# Example\n",
    "a = np.array([1, 2, 3])\n",
    "b = np.array([4, 5, 6])\n",
    "print(conformal(a, b))"
   ],
   "metadata": {
    "collapsed": false
   }
  },
  {
   "cell_type": "markdown",
   "source": [
    "## 2.1 Conclusion"
   ],
   "metadata": {
    "collapsed": false
   }
  },
  {
   "cell_type": "markdown",
   "source": [
    "In this tutorial, we introduced some of the basic tools of geometric algebra and showed how they can be used to perform geometric operations. We also showed how to perform basic arithmetic operations with geometric algebra objects. In the next tutorial, we will show how to use geometric algebra to solve geometric problems."
   ],
   "metadata": {
    "collapsed": false
   }
  },
  {
   "cell_type": "markdown",
   "source": [
    "## 3.1 Proposed Exercises"
   ],
   "metadata": {
    "collapsed": false
   }
  },
  {
   "cell_type": "markdown",
   "source": [
    "Here you can find 10 exercises going from easy to hard. Try to solve them using the tools you learned in this tutorial.\n",
    "1. Compute the outer product of two vectors $a$ and $b$.\n",
    "2. Compute the inner product of two vectors $a$ and $b$.\n",
    "3. Compute the geometric product of two vectors $a$ and $b$.\n",
    "4. Compute the dual of a vector $a$.\n",
    "5. Compute the inverse of a vector $a$.\n",
    "6. Compute the reverse of a vector $a$.\n",
    "7. Compute the conjugate of a vector $a$.\n",
    "8. Compute the grade projection of a vector $a$.\n",
    "9. Compute the norm of a vector $a$.\n",
    "10. Compute the normalization of a vector $a$."
   ],
   "metadata": {
    "collapsed": false
   }
  }
 ],
 "metadata": {
  "kernelspec": {
   "display_name": "Python 3",
   "language": "python",
   "name": "python3"
  },
  "language_info": {
   "codemirror_mode": {
    "name": "ipython",
    "version": 2
   },
   "file_extension": ".py",
   "mimetype": "text/x-python",
   "name": "python",
   "nbconvert_exporter": "python",
   "pygments_lexer": "ipython2",
   "version": "2.7.6"
  }
 },
 "nbformat": 4,
 "nbformat_minor": 0
}
